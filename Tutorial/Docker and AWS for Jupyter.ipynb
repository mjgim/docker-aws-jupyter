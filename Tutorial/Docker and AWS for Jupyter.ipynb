{
 "cells": [
  {
   "cell_type": "markdown",
   "metadata": {},
   "source": [
    "Tutorial : Jupyter를 위한 Docker 그리고 AWS\n",
    "======================"
   ]
  },
  {
   "cell_type": "markdown",
   "metadata": {},
   "source": [
    "# Jupyter Notebook\n",
    "\n",
    "> The Jupyter Notebook is an open-source web application that allows you to create and share documents that contain live code, equations, visualizations and explanatory text. Uses include: data cleaning and transformation, numerical simulation, statistical modeling, machine learning and much more.\n",
    "> http://jupyter.org\n",
    "\n",
    "* IPython Notebook 을 계승.\n",
    "* 프로젝트 초기에 기본적으로 제공했던 언어인 Julia, Python, R 을 합쳐 Jupyter 라는 이름을 만듦."
   ]
  },
  {
   "cell_type": "markdown",
   "metadata": {},
   "source": [
    "## Jupyter Notebook 맛보기\n",
    "\n",
    "* [try.jupyter.org](https://try.jupyter.org)\n",
    "  * 5분간 Jupyter Notebook 을 사용 해 볼 수 있는 공식 Example Server.\n",
    "\n",
    "* [인하대학교 수학과 Jupyter Hub](https://jupyter.inha.ac.kr)\n",
    "  * Intel(R) Xeon(R) CPU E5645 @ 2.40GHz (6-core, 2 CPUs), 1대.\n",
    "  * Memory : 26G.\n",
    "  * 인하대학교 수학과 학생 전용.\n",
    "\n",
    "* [NIMS Jupyter Hub](https://jupyter.nims.re.kr)\n",
    "  * Intel(R) Xeon(R) CPU E5-2630 v3 @ 2.40GHz (8-core, 2 CPUs), 계산서버 14대 + JupyterHub + Storage.\n",
    "  * Memory : 64G.\n",
    "  * 공개 (GitHub 인증)."
   ]
  },
  {
   "cell_type": "markdown",
   "metadata": {},
   "source": [
    "### Kernel\n",
    "\n",
    "* Jupyter Notebook 에서 프로그래밍 언어를 사용하기 위해서는 해당 언어를 위한 kernel 을 설치 해야합니다.\n",
    "\n",
    "![Kernels](kernels.png)"
   ]
  },
  {
   "cell_type": "markdown",
   "metadata": {},
   "source": [
    "### Notebook file\n",
    "\n",
    "* Notebook 은 하나의 실행 단위인 Cell 들로 구성이 되어 있습니다.\n",
    "* 각 Cell 에 Code 나 Markdown 을 작성할 수 있습니다.\n",
    "![Cell](cell.png)\n",
    "  * Heading 은 더이상 사용하지 않습니다 (Markdown 의 Heading 을 사용하세요).\n",
    "  * Raw Cell 은 Notebook 에서는 아무일도 하지 않지만, `nbconvert` 를 사용하여 다른 파일형식으로 변환 할때 Cell 의 내용을 그대로 넘겨줍니다.\n",
    "* Toolbox 에서 `Run`을 누르거나 단축키(CTRL + ENTER 또는 SHIFT + ENTER)를 눌러 Cell 을 실행합니다."
   ]
  },
  {
   "cell_type": "code",
   "execution_count": null,
   "metadata": {
    "scrolled": true
   },
   "outputs": [],
   "source": [
    "for i in range(3):\n",
    "    print(\"Hello World!\")"
   ]
  },
  {
   "cell_type": "markdown",
   "metadata": {},
   "source": [
    "## JupyterLab\n",
    "\n",
    "* 조금 더 IDE(통합개발환경)스럽게!\n",
    "* https://jupyter.nims.re.kr/user/(id)/lab\n",
    "* 아직은 pre-beta 단계.\n",
    "\n",
    "## JupyterHub\n",
    "\n",
    "> A multi-user version of the notebook designed for companies, classrooms and research labs\n",
    "> https://jupyter.org\n",
    "\n",
    "* 각 사용자에게 Configurable Proxy 를 통해 Jupyter Notebook Server 를 연결해 주는 방식으로 작동합니다."
   ]
  },
  {
   "cell_type": "markdown",
   "metadata": {},
   "source": [
    "## Jupyter Notebook, Lab, Hub (왜이리 복잡해???)\n",
    "\n",
    "* 가장 핵심적인 기능만을 가지고 있는 가벼운 환경을 제공하고, 나머지 기능들은 필요에따라 사용자가 설치하도록 하는 모듈화를 지향합니다."
   ]
  },
  {
   "cell_type": "markdown",
   "metadata": {},
   "source": [
    "# NIMS JupyterHub 의 한계\n",
    "\n",
    "* 여러사람에게 동일한 환경을 제공하기 위한 설계\n",
    "  * 한정된 자원을 공유\n",
    "  * 하드웨어 확장이 불편\n",
    "  * 개인별 컨테이너 제공으로 독립된 환경을 제공 하지만, 정해진 시간(매주 월요일 새벽 1시)에 초기화\n",
    "  \n",
    "\n",
    "# Tutorial의 목표\n",
    "\n",
    "* AWS EC2 를 통해 내게 필요한 만큼의 자원을 할당하여,\n",
    "* 미리 준비된 Docker Image 를 통해\n",
    "* 독립적이면서도 규격화된 Jupyter Notebook 환경을 구성.\n",
    "  \n",
    "  \n",
    "* 난이도 : 초급\n",
    "* 환경설정에 많은 시간을 투자하기 보다는 문제를 해결하는것에 집중 할 수 있도록 Cloud 자원과 Docker Image 를 바로 활용 하는 방법을 설명하려고 합니다."
   ]
  },
  {
   "cell_type": "markdown",
   "metadata": {},
   "source": [
    "## Scenario\n",
    "\n",
    "*실제 사례*\n",
    "\n",
    "* Machine Learning 을 공부하던 대학원생이 수업중인 서버의 메모리를 모두 소진하여 실습이 10여분간 중단\n",
    "* 이후 그 학생은 ~~게임용~~ 노트북에 Linux를 설치하고, tensorflow와 jupyter를 설치\n",
    "* ~~처음 해보는 설치라 이틀간 고생한건 비밀~~\n",
    "* 작업을 계속하지만, 메모리는 여전히 부족하고 극심한 발열과 소음에 시달림\n",
    "* 서버관리자(=me)가 AWS 같은 cloud 환경을 추천\n",
    "* AWS는 뭔가 어렵고 비싸다며 외면\n",
    "* 웬만한 PC보다 괜찮은 환경을 PC방 요금으로 제공 (`p2.xlarge`, K80 GPU, 61GiB 메모리, 시간당 \\$0.9)\n",
    "* Spot instance 를 사용하면 더 저렴하게 이용가능\n",
    "* AWS에서 등록된 교육기관의 학생에게 매년 \\$100 지원\n",
    "* ~~광고아님~~"
   ]
  },
  {
   "cell_type": "markdown",
   "metadata": {},
   "source": [
    "### 다음과 같은 분들에게 추천합니다.\n",
    "\n",
    "* 공용 서버가 불편하신 분 (한정된 자원, 데이터 손실 위험, 정기점검 등등...)\n",
    "* PC나 노트북을 그만 혹사 시키고 싶으신 분\n",
    "* GPU가 설치된 서버나 워크스테이션의 구입을 망설이시는 분\n",
    "* 대용량 계산이 필요하신분 (`p2.16xlarge` 는 시간당 \\$14.4에 732GiB 메모리와 16개의 K80 GPU를 제공)\n",
    "* Linux kernel, 환경설정, Package 버전 관리 등이 귀찮으신 분\n",
    "* 시간과 장소에 구애받지 않고 작업하고 싶으신 분"
   ]
  },
  {
   "cell_type": "markdown",
   "metadata": {},
   "source": [
    "### 목표\n",
    "* 어렵지 않습니다.\n",
    "* 다른 사람이 만든 환경을 가져와 사용하는 법을 배웁니다. 따라서 환경설정에 시간을 낭비 할 필요 없습니다.\n",
    "* 아쉬운 부분이 있으면 살짝 추가하는 법도 배웁니다.\n",
    "* 완전히 동일한 방법으로 내 PC에도 같은 환경을 구성 할 수 있습니다."
   ]
  },
  {
   "cell_type": "markdown",
   "metadata": {},
   "source": [
    "### 진행순서\n",
    "\n",
    "1. AWS 맛보기\n",
    "2. Docker 설치와 사용\n",
    "3. tensorflow-gpu 이미지 사용해보기\n",
    "4. jupyterlab 추가해보기\n",
    "5. 마무리"
   ]
  },
  {
   "cell_type": "markdown",
   "metadata": {},
   "source": [
    "# AWS 맛보기"
   ]
  },
  {
   "cell_type": "markdown",
   "metadata": {},
   "source": [
    "## 준비\n",
    "\n",
    "* AWS Account\n",
    "  * Limits -> Request limit increase\n",
    "    * Limit Type : EC2 Instances\n",
    "      * Region : Asia Pacific (Seoul)\n",
    "      * Primary Instance Type : `p2.xlarge`\n",
    "      * Limit : Instance Limit\n",
    "      * New limit value : 1\n",
    "    * Contact method : Web\n",
    "  * AWS 에 등록한 e-mail 로 회신. 15분~3일 소요.\n",
    "  \n",
    "\n",
    "* SSH client\n",
    "  * SSH Tunneling을 사용할 수 있는 SSH 클라이언트 프로그램이 필요합니다.\n",
    "  * Unix 계열 (Linux, macOS, ...) : OpenSSH\n",
    "    * -i identity_file\n",
    "    * -L local_port:remote_address:remote_port\n",
    "    * e.g > `ssh -i jupyter.pem.txt -L 8888:localhost:8888 user@aws.something.amazon.com`\n",
    "  * MS-Windows : [PuTTY](https://www.chiark.greenend.org.uk/~sgtatham/putty/latest.html)\n",
    "    * Connection -> SSH -> Auth -> Private key file for authentication: `jupyter.pem.txt`\n",
    "    * Connection -> SSH -> Tunnels:\n",
    "      * Source port : `8888`\n",
    "      * Destination : `localhost:8888`"
   ]
  },
  {
   "cell_type": "markdown",
   "metadata": {},
   "source": [
    "### 키 페어 생성\n",
    "1. 메뉴 -> 네트워크 및 보안 -> 키 페어\n",
    "![Key Pair](keypair.png)\n",
    "\n",
    "2. 생성\n",
    "![Generate Key Pair](keypair_gen.png)\n",
    "\n",
    "3. 자동으로 다운로드되는 `jupyter.pem.txt` 를 확인합니다.\n",
    "4. Unix 계열은 파일의 권한을 소유자 읽기전용 (400) 으로 변경합니다.\n",
    "```bash\n",
    "chmod 400 jupyter.pem.txt\n",
    "```"
   ]
  },
  {
   "cell_type": "markdown",
   "metadata": {},
   "source": [
    "## AWS ECS (EC2 Container Service)\n",
    "\n",
    "* **장점** : Docker image 만 있으면 끝.\n",
    "* **단점** : GPU 연산을 위한 `p2` instance 생성 불가.\n",
    "* 좋아보이긴하지만, 클러스터 관리를 위한 편의 기능 중심으로 당장은 우리의 관심 밖.\n",
    "* ~~Docker 가 대세는 대세~~\n",
    "\n",
    "\n",
    "## Eazy way : prepared AMI\n",
    "\n",
    "* **장점** : AWS 에서 공식적으로 제공하는 미리 준비된 환경. `p2` instance 사용 가능.\n",
    "* **단점** : 조금은 느린 버전관리. 내 PC에서는 사용할 수 없음."
   ]
  },
  {
   "cell_type": "markdown",
   "metadata": {},
   "source": [
    "### 인스턴스 시작\n",
    "#### 1. 메뉴 -> 인스턴스 -> 인스턴스\n",
    "![Start Instance](instance_start.png)"
   ]
  },
  {
   "cell_type": "markdown",
   "metadata": {},
   "source": [
    "#### 2. 빠른시작 -> Deep Learning AMI Ubuntu Version 2.3_Sep2017\n",
    "![Select Image](instance_image.png)"
   ]
  },
  {
   "cell_type": "markdown",
   "metadata": {},
   "source": [
    "#### 3. 인스턴스 유형 선택 (`p2.xlarge`)\n",
    "![p2.xlarge](instance_p2.png)"
   ]
  },
  {
   "cell_type": "markdown",
   "metadata": {},
   "source": [
    "#### 4. 검토 및 시작 -> 키 페어 선택\n",
    "![Select Key Pair](instance_keypair.png)"
   ]
  },
  {
   "cell_type": "markdown",
   "metadata": {},
   "source": [
    "#### 5. 인스턴스 상태가 `running` 이 될때까지 기다림\n",
    "![Running](instance_running.png)"
   ]
  },
  {
   "cell_type": "markdown",
   "metadata": {},
   "source": [
    "#### 6. 퍼블릭 DNS 를 확인하고 SSH를 통해 인스턴스에 접속\n",
    "```bash\n",
    "ssh -i jupyter.pem.txt -L 8888:localhost:8888 ubuntu@ec2-13-125-8-58.ap-northeast-2.compute.amazonaws.com\n",
    "```\n",
    "![SSH](instance_ssh.png)"
   ]
  },
  {
   "cell_type": "markdown",
   "metadata": {},
   "source": [
    "#### 7. Jupyter Notebook을 실행\n",
    "```bash\n",
    "jupyter notebook\n",
    "```\n",
    "![Jupyter](instance_jupyter.png)"
   ]
  },
  {
   "cell_type": "markdown",
   "metadata": {},
   "source": [
    "#### 8. 웹브라우저 주소창에 URL을 복사,붙여넣기\n",
    "\n",
    "#### 9. 브라우저 창을 끄고, 터미널에서 `cmd+c` 로 jupyter를 종료한 후 로그아웃\n",
    "\n",
    "#### 10. AWS에서 오른쪽 클릭하여 메뉴에서 인스턴스 종료를 선택\n",
    "![Terminate](instance_term.png)"
   ]
  },
  {
   "cell_type": "markdown",
   "metadata": {},
   "source": [
    "# Docker\n",
    "\n",
    "> Docker is the leading Containers as a Service (CaaS) platform\n",
    "> https://www.docker.com/what-docker\n",
    "\n",
    "\n",
    "## 설치\n",
    "\n",
    "#### 1. Ubuntu Server 16.04 LTS AMI로 `p2.xlarge` 인스턴스를 시작 (스토리지 추가:50GiB)\n",
    "![Ubuntu](docker_ubuntu.png)\n",
    "![Storage](docker_storage.png)\n",
    "\n",
    "#### 2. SSH 로 인스턴스에 접속\n",
    "```bash\n",
    "ssh -i jupyter.pem.txt -L 8888:localhsot:8888 ubuntu@PUBLIC_DOMAIN_OF_INSTANCE\n",
    "```\n",
    "\n",
    "#### 3. Install Docker\n",
    "```bash\n",
    "curl -fsSL get.docker.com | sudo sh\n",
    "\n",
    "sudo usermod -aG docker ubuntu\n",
    "```\n",
    "\n",
    "#### 4. Logout & Login\n",
    "```bash\n",
    "exit\n",
    "\n",
    "ssh -i jupyter.pem.txt -L 8888:localhsot:8888 ubuntu@PUBLIC_DOMAIN_OF_INSTANCE\n",
    "\n",
    "docker ps\n",
    "```"
   ]
  },
  {
   "cell_type": "markdown",
   "metadata": {},
   "source": [
    "## Basic Commands\n",
    "\n",
    "```bash\n",
    "docker [OPTIONS] COMMAND [ARGS]\n",
    "```"
   ]
  },
  {
   "cell_type": "markdown",
   "metadata": {},
   "source": [
    "### pull\n",
    "```bash\n",
    "docker pull [OPTIONS] REPOSITORY_NAME[:TAG|@DIGEST]\n",
    "\n",
    "docker pull jupyter/tensorflow-notebook:latest\n",
    "```\n",
    "![pull](docker_pull.png)"
   ]
  },
  {
   "cell_type": "markdown",
   "metadata": {},
   "source": [
    "### images\n",
    "```bash\n",
    "docker images [OPTIONS] [REPOSITORY[:TAG]]\n",
    "\n",
    "docker images\n",
    "```\n",
    "![images](docker_images.png)"
   ]
  },
  {
   "cell_type": "markdown",
   "metadata": {},
   "source": [
    "### run\n",
    "```bash\n",
    "docker run [OPTIONS] IMAGE [COMMAND] [ARG...]\n",
    "```\n",
    "|option|description|\n",
    "|-|-|\n",
    "| -p, --publish | Publish a container's port(s) to the host |\n",
    "| -v, --volume | Bind mount a volume |\n",
    "| --name | Assign a name to the container |\n",
    "| --rm | Automatically remove the container when it exits |\n",
    "| -d, --detach | Run container in background and print container ID |\n",
    "```bash\n",
    "mkdir work\n",
    "\n",
    "sudo chown 1000.100 work/\n",
    "\n",
    "docker run -it -p 8888:8888 -v /home/ubuntu/work/:/home/jovyan/work/ --name jupyter jupyter/tensorflow-notebook:latest\n",
    "```\n",
    "* -d 옵션을 사용하지 않았더라도, `ctrl+p+q`를 사용하여 detach 가능.\n",
    "![run](docker_run.png)"
   ]
  },
  {
   "cell_type": "markdown",
   "metadata": {},
   "source": [
    "### ps\n",
    "```bash\n",
    "docker ps [OPTIONS]\n",
    "\n",
    "docker ps\n",
    "```\n",
    "![ps](docker_ps.png)"
   ]
  },
  {
   "cell_type": "markdown",
   "metadata": {},
   "source": [
    "### attach\n",
    "```bash\n",
    "docker attach [OPTIONS] CONTAINER\n",
    "\n",
    "docker attach jupyter\n",
    "```\n",
    "* `ctrl+p+q`를 사용하여 detach.\n",
    "\n",
    "### stop\n",
    "```bash\n",
    "docker stop [OPTIONS] CONTAINER [CONTAINER...]\n",
    "\n",
    "docker stop jupyter\n",
    "```\n",
    "\n",
    "### start\n",
    "```bash\n",
    "docker start [OPTIONS] CONTAINER [CONTAINER...]\n",
    "\n",
    "\n",
    "docker ps\n",
    "\n",
    "docker ps -a\n",
    "\n",
    "docker start jupyter\n",
    "```"
   ]
  },
  {
   "cell_type": "markdown",
   "metadata": {},
   "source": [
    "### logs\n",
    "```bash\n",
    "docker logs [OPTIONS] CONTAINER\n",
    "\n",
    "\n",
    "docker logs jupyter\n",
    "```\n",
    "![logs](docker_logs.png)"
   ]
  },
  {
   "cell_type": "markdown",
   "metadata": {},
   "source": [
    "### rm * 지금은 실행하지 않습니다.\n",
    "```bash\n",
    "docker rm [OPTIONS] CONTAINER [CONTAINER...]\n",
    "\n",
    "\n",
    "# 아직 실행하지 마세요.\n",
    "# docker stop jupyter\n",
    "\n",
    "# docker rm jupyter\n",
    "```\n",
    "\n",
    "### rmi * 지금은 실행하지 않습니다.\n",
    "```bash\n",
    "docker rmi [OPTIONS] IMAGE [IMAGE...]\n",
    "\n",
    "\n",
    "docker images\n",
    "\n",
    "# 아직 실행하지 마세요.\n",
    "# docker rmi jupyter/tensorflow-notebook:latest\n",
    "```\n",
    "![rmi](docker_rmi.png)"
   ]
  },
  {
   "cell_type": "markdown",
   "metadata": {},
   "source": [
    "## Simple NN Test (without GPU)\n",
    "\n",
    "```bash\n",
    "docker logs jupyter\n",
    "```\n",
    "\n",
    "* 웹 브라우저에서 jupyter notebook 으로 접속\n",
    "* http://localhost:8888/lab 으로 접속\n",
    "* `work/` 디렉토리로 이동\n",
    "* `Simple_NN_Test.ipynb` 파일을 업로드\n",
    "* `Simple_NN_Test.ipynb` 파일을 더블클릭하여 열기\n",
    "* 각 Cell 을 실행\n",
    "\n",
    "![without GPU](test_without_gpu.png)\n",
    "\n",
    "* 탭 종료\n",
    "* Terminal 에서 `docker rm -f jupyter` 명령으로 컨테이너 삭제"
   ]
  },
  {
   "cell_type": "markdown",
   "metadata": {},
   "source": [
    "# Docker with GPU\n",
    "\n",
    "## Install CUDA\n",
    "https://developer.nvidia.com/cuda-downloads\n",
    "\n",
    "```bash\n",
    "wget http://developer.download.nvidia.com/compute/cuda/repos/ubuntu1604/x86_64/cuda-repo-ubuntu1604_9.0.176-1_amd64.deb\n",
    "\n",
    "sudo dpkg -i cuda-repo-ubuntu1604_9.0.176-1_amd64.deb\n",
    "\n",
    "sudo apt-key adv --fetch-keys http://developer.download.nvidia.com/compute/cuda/repos/ubuntu1604/x86_64/7fa2af80.pub\n",
    "\n",
    "sudo apt update\n",
    "\n",
    "sudo apt install cuda\n",
    "```\n",
    "![CUDA](cuda.png)"
   ]
  },
  {
   "cell_type": "markdown",
   "metadata": {},
   "source": [
    "## Install `nvidia-docker`\n",
    "https://github.com/NVIDIA/nvidia-docker\n",
    "\n",
    "```bash\n",
    "wget https://github.com/NVIDIA/nvidia-docker/releases/download/v1.0.1/nvidia-docker_1.0.1-1_amd64.deb\n",
    "\n",
    "sudo dpkg -i nvidia-docker_1.0.1-1_amd64.deb\n",
    "\n",
    "nvidia-docker run --rm nvidia/cuda nvidia-smi\n",
    "```\n",
    "![nvidia-docker](nvidia.png)"
   ]
  },
  {
   "cell_type": "markdown",
   "metadata": {},
   "source": [
    "## Run `tensorflow/tensorflow:latest-gpu-py3`\n",
    "https://hub.docker.com/r/tensorflow/tensorflow/\n",
    "\n",
    "```bash\n",
    "nvidia-docker run -it -p 8888:8888 -v /home/ubuntu/work/:/notebooks/work/ --name tf_gpu tensorflow/tensorflow:latest-gpu-py3\n",
    "```\n",
    "![TF with GPU](tf_gpu.png)\n",
    "\n",
    "* 웹 브라우저에서 jupyter notebook 에 접속\n",
    "* `work/` 디렉토리로 이동하여 `Simple_NN_Test.ipynb`를 다시 실행\n",
    "![with GPU](test_with_gpu.png)"
   ]
  },
  {
   "cell_type": "markdown",
   "metadata": {},
   "source": [
    "## JupyterLab 설치\n",
    "\n",
    "* http://localhost:8888/lab 으로 들어가 보아도 JupyterLab 이 실행되지 않음. (404 : Not Found)\n",
    "* JupyterLab 이 설치되어 있는 우리만의 docker image 생성\n",
    "\n",
    "```bash\n",
    "mkdir tf_jupyterlab\n",
    "\n",
    "cd tf_jupyterlab\n",
    "\n",
    "vi Dockerfile\n",
    "```\n",
    "\n",
    "* https://github.com/jupyterlab/jupyterlab 에서 설치방법을 확인\n",
    "\n",
    "```Dockerfile\n",
    "FROM tensorflow/tensorflow:latest-gpu-py3\n",
    "\n",
    "RUN pip install jupyterlab\n",
    "RUN jupyter serverextension enable --py jupyterlab --sys-prefix\n",
    "```\n",
    "\n",
    "* `build` command로 이미지를 생성\n",
    "\n",
    "```bash\n",
    "docker build -t tf:gpu-lab-0.1 .\n",
    "\n",
    "docker images\n",
    "```\n",
    "\n",
    "![build](docker_build.png)\n",
    "\n",
    "```bash\n",
    "docker stop tf_gpu\n",
    "\n",
    "nvidia-docker run -it -p 8888:8888 -v /home/ubuntu/work/:/notebooks/work/ --name tf_lab tf:gpu-lab-0.1\n",
    "```"
   ]
  },
  {
   "cell_type": "markdown",
   "metadata": {},
   "source": [
    "# 마무리\n",
    "\n",
    "* 인스턴스의 /home/ubuntu/work/ 디렉토리를 backup. 로컬 머신에서 \n",
    "```bash\n",
    "scp -i jupyter.pem.txt -r ubuntu@PUBLIC_DOMAIN_OF_INSTANCE:~/work/ ./\n",
    "```\n",
    "* 인스턴스를 종료"
   ]
  },
  {
   "cell_type": "markdown",
   "metadata": {},
   "source": [
    "# Docker with GPU (Summary)\n",
    "\n",
    "## p2.xlarge instance + nvidia-docker + tensorflow-gpu image\n",
    "\n",
    "1. Launch Ubuntu 16.04 instance.\n",
    "[`p2.xlarge`](https://aws.amazon.com/ko/ec2/instance-types/p2/) with more storage (50GiB).\n",
    "1. Connect into the instance with SSH tunneling.\n",
    "```bash\n",
    "chmod 400 <key.pem.txt>\n",
    "ssh -i <key.pem.txt> -L 8888:localhsot:8888 ubuntu@<public domain of instance>\n",
    "sudo apt-get update && sudo apt-get -y upgrade\n",
    "```\n",
    "1. Install Docker.\n",
    "```bash\n",
    "curl -fsSL get.docker.com | sudo sh\n",
    "sudo usermod -aG docker ubuntu\n",
    "```\n",
    "1. Logout and Login again (for docker group).\n",
    "```bash\n",
    "exit\n",
    "ssh -i <key.pem.txt> -L 8888:localhsot:8888 ubuntu@<public domain of instance>\n",
    "docker ps\n",
    "```\n",
    "1. Install CUDA.\n",
    "https://developer.nvidia.com/cuda-downloads\n",
    "```bash\n",
    "wget http://developer.download.nvidia.com/compute/cuda/repos/ubuntu1604/x86_64/cuda-repo-ubuntu1604_9.0.176-1_amd64.deb\n",
    "sudo dpkg -i cuda-repo-ubuntu1604_9.0.176-1_amd64.deb\n",
    "sudo apt-key adv --fetch-keys http://developer.download.nvidia.com/compute/cuda/repos/ubuntu1604/x86_64/7fa2af80.pub\n",
    "sudo apt update && sudo apt -y install cuda\n",
    "```\n",
    "1. Install `nvidia-docker`.\n",
    "https://github.com/NVIDIA/nvidia-docker\n",
    "```bash\n",
    "wget https://github.com/NVIDIA/nvidia-docker/releases/download/v1.0.1/nvidia-docker_1.0.1-1_amd64.deb\n",
    "sudo dpkg -i nvidia-docker_1.0.1-1_amd64.deb\n",
    "```\n",
    "1. Test `nvidia-smi`.\n",
    "```bash\n",
    "# docker pull nvidia/cuda:latest\n",
    "nvidia-docker run --rm nvidia/cuda nvidia-smi\n",
    "```\n",
    "1. Run `tensorflow/tensorflow:latest-gpu-py3`.\n",
    "https://hub.docker.com/r/tensorflow/tensorflow/\n",
    "```bash\n",
    "mkdir work/\n",
    "sudo chown 1000.100 work/\n",
    "# docker pull tensorflow/tensorflow:latest-gpu-py3\n",
    "nvidia-docker run -it -p 8888:8888 -v /home/ubuntu/work/:/notebooks/work/ --name tf_gpu tensorflow/tensorflow:latest-gpu-py3\n",
    "```\n",
    "1. **Important!!** Backup your `work/` directory!!!"
   ]
  }
 ],
 "metadata": {
  "kernelspec": {
   "display_name": "Python 3",
   "language": "python",
   "name": "python3"
  },
  "language_info": {
   "codemirror_mode": {
    "name": "ipython",
    "version": 3
   },
   "file_extension": ".py",
   "mimetype": "text/x-python",
   "name": "python",
   "nbconvert_exporter": "python",
   "pygments_lexer": "ipython3",
   "version": "3.6.2"
  }
 },
 "nbformat": 4,
 "nbformat_minor": 2
}
